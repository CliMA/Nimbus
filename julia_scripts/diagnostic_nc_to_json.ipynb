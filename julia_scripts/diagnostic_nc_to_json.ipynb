{
 "cells": [
  {
   "cell_type": "code",
   "execution_count": 14,
   "metadata": {},
   "outputs": [],
   "source": [
    "using NetCDF: ncread, ncwrite, nccreate\n",
    "using Statistics: mean\n",
    "using JSON\n",
    "using NCDatasets"
   ]
  },
  {
   "cell_type": "markdown",
   "metadata": {},
   "source": [
    "for separate files:"
   ]
  },
  {
   "cell_type": "code",
   "execution_count": 22,
   "metadata": {},
   "outputs": [
    {
     "data": {
      "text/plain": [
       "\"../full_data_set/data_files/BOMEX_LES_CORE\""
      ]
     },
     "execution_count": 22,
     "metadata": {},
     "output_type": "execute_result"
    }
   ],
   "source": [
    "default_data_folder = \"../full_data_set/data_files/BOMEX_LES_DEFAULT\"\n",
    "core_data_folder = \"../full_data_set/data_files/BOMEX_LES_CORE\""
   ]
  },
  {
   "cell_type": "markdown",
   "metadata": {},
   "source": [
    "for combined files:"
   ]
  },
  {
   "cell_type": "code",
   "execution_count": 23,
   "metadata": {},
   "outputs": [
    {
     "data": {
      "text/plain": [
       "\"../full_data_set/data_files/BOMEX_2/BOMEX_AtmosLESCore_2020-07-22T10.34.39.nc\""
      ]
     },
     "execution_count": 23,
     "metadata": {},
     "output_type": "execute_result"
    }
   ],
   "source": [
    "default_file = \"../full_data_set/data_files/BOMEX_2/BOMEX_AtmosLESDefault_2020-07-22T10.34.39.nc\"\n",
    "core_file = \"../full_data_set/data_files/BOMEX_2/BOMEX_AtmosLESCore_2020-07-22T10.34.39.nc\""
   ]
  },
  {
   "cell_type": "markdown",
   "metadata": {},
   "source": [
    "### generate lists of files for the separate case"
   ]
  },
  {
   "cell_type": "code",
   "execution_count": 24,
   "metadata": {
    "collapsed": true
   },
   "outputs": [
    {
     "data": {
      "text/plain": [
       "361-element Array{String,1}:\n",
       " \"../full_data_set/data_files/BOMEX_LES_DEFAULT/BOMEX_AtmosLESDefault_0000.nc\"\n",
       " \"../full_data_set/data_files/BOMEX_LES_DEFAULT/BOMEX_AtmosLESDefault_0001.nc\"\n",
       " \"../full_data_set/data_files/BOMEX_LES_DEFAULT/BOMEX_AtmosLESDefault_0002.nc\"\n",
       " \"../full_data_set/data_files/BOMEX_LES_DEFAULT/BOMEX_AtmosLESDefault_0003.nc\"\n",
       " \"../full_data_set/data_files/BOMEX_LES_DEFAULT/BOMEX_AtmosLESDefault_0004.nc\"\n",
       " \"../full_data_set/data_files/BOMEX_LES_DEFAULT/BOMEX_AtmosLESDefault_0005.nc\"\n",
       " \"../full_data_set/data_files/BOMEX_LES_DEFAULT/BOMEX_AtmosLESDefault_0006.nc\"\n",
       " \"../full_data_set/data_files/BOMEX_LES_DEFAULT/BOMEX_AtmosLESDefault_0007.nc\"\n",
       " \"../full_data_set/data_files/BOMEX_LES_DEFAULT/BOMEX_AtmosLESDefault_0008.nc\"\n",
       " \"../full_data_set/data_files/BOMEX_LES_DEFAULT/BOMEX_AtmosLESDefault_0009.nc\"\n",
       " \"../full_data_set/data_files/BOMEX_LES_DEFAULT/BOMEX_AtmosLESDefault_0010.nc\"\n",
       " \"../full_data_set/data_files/BOMEX_LES_DEFAULT/BOMEX_AtmosLESDefault_0011.nc\"\n",
       " \"../full_data_set/data_files/BOMEX_LES_DEFAULT/BOMEX_AtmosLESDefault_0012.nc\"\n",
       " ⋮\n",
       " \"../full_data_set/data_files/BOMEX_LES_DEFAULT/BOMEX_AtmosLESDefault_0349.nc\"\n",
       " \"../full_data_set/data_files/BOMEX_LES_DEFAULT/BOMEX_AtmosLESDefault_0350.nc\"\n",
       " \"../full_data_set/data_files/BOMEX_LES_DEFAULT/BOMEX_AtmosLESDefault_0351.nc\"\n",
       " \"../full_data_set/data_files/BOMEX_LES_DEFAULT/BOMEX_AtmosLESDefault_0352.nc\"\n",
       " \"../full_data_set/data_files/BOMEX_LES_DEFAULT/BOMEX_AtmosLESDefault_0353.nc\"\n",
       " \"../full_data_set/data_files/BOMEX_LES_DEFAULT/BOMEX_AtmosLESDefault_0354.nc\"\n",
       " \"../full_data_set/data_files/BOMEX_LES_DEFAULT/BOMEX_AtmosLESDefault_0355.nc\"\n",
       " \"../full_data_set/data_files/BOMEX_LES_DEFAULT/BOMEX_AtmosLESDefault_0356.nc\"\n",
       " \"../full_data_set/data_files/BOMEX_LES_DEFAULT/BOMEX_AtmosLESDefault_0357.nc\"\n",
       " \"../full_data_set/data_files/BOMEX_LES_DEFAULT/BOMEX_AtmosLESDefault_0358.nc\"\n",
       " \"../full_data_set/data_files/BOMEX_LES_DEFAULT/BOMEX_AtmosLESDefault_0359.nc\"\n",
       " \"../full_data_set/data_files/BOMEX_LES_DEFAULT/BOMEX_AtmosLESDefault_0360.nc\""
      ]
     },
     "execution_count": 24,
     "metadata": {},
     "output_type": "execute_result"
    }
   ],
   "source": [
    "default_files = sort(readdir(default_data_folder, join=true))\n",
    "defualt_files = [file for file in default_files if occursin(\".nc\", file)]\n",
    "defualt_files = [file for file in default_files if occursin(\"BOMEX\", file)]"
   ]
  },
  {
   "cell_type": "code",
   "execution_count": 25,
   "metadata": {
    "collapsed": true
   },
   "outputs": [
    {
     "data": {
      "text/plain": [
       "361-element Array{String,1}:\n",
       " \"../full_data_set/data_files/BOMEX_LES_CORE/BOMEX_0000.nc\"\n",
       " \"../full_data_set/data_files/BOMEX_LES_CORE/BOMEX_0001.nc\"\n",
       " \"../full_data_set/data_files/BOMEX_LES_CORE/BOMEX_0002.nc\"\n",
       " \"../full_data_set/data_files/BOMEX_LES_CORE/BOMEX_0003.nc\"\n",
       " \"../full_data_set/data_files/BOMEX_LES_CORE/BOMEX_0004.nc\"\n",
       " \"../full_data_set/data_files/BOMEX_LES_CORE/BOMEX_0005.nc\"\n",
       " \"../full_data_set/data_files/BOMEX_LES_CORE/BOMEX_0006.nc\"\n",
       " \"../full_data_set/data_files/BOMEX_LES_CORE/BOMEX_0007.nc\"\n",
       " \"../full_data_set/data_files/BOMEX_LES_CORE/BOMEX_0008.nc\"\n",
       " \"../full_data_set/data_files/BOMEX_LES_CORE/BOMEX_0009.nc\"\n",
       " \"../full_data_set/data_files/BOMEX_LES_CORE/BOMEX_0010.nc\"\n",
       " \"../full_data_set/data_files/BOMEX_LES_CORE/BOMEX_0011.nc\"\n",
       " \"../full_data_set/data_files/BOMEX_LES_CORE/BOMEX_0012.nc\"\n",
       " ⋮\n",
       " \"../full_data_set/data_files/BOMEX_LES_CORE/BOMEX_0349.nc\"\n",
       " \"../full_data_set/data_files/BOMEX_LES_CORE/BOMEX_0350.nc\"\n",
       " \"../full_data_set/data_files/BOMEX_LES_CORE/BOMEX_0351.nc\"\n",
       " \"../full_data_set/data_files/BOMEX_LES_CORE/BOMEX_0352.nc\"\n",
       " \"../full_data_set/data_files/BOMEX_LES_CORE/BOMEX_0353.nc\"\n",
       " \"../full_data_set/data_files/BOMEX_LES_CORE/BOMEX_0354.nc\"\n",
       " \"../full_data_set/data_files/BOMEX_LES_CORE/BOMEX_0355.nc\"\n",
       " \"../full_data_set/data_files/BOMEX_LES_CORE/BOMEX_0356.nc\"\n",
       " \"../full_data_set/data_files/BOMEX_LES_CORE/BOMEX_0357.nc\"\n",
       " \"../full_data_set/data_files/BOMEX_LES_CORE/BOMEX_0358.nc\"\n",
       " \"../full_data_set/data_files/BOMEX_LES_CORE/BOMEX_0359.nc\"\n",
       " \"../full_data_set/data_files/BOMEX_LES_CORE/BOMEX_0360.nc\""
      ]
     },
     "execution_count": 25,
     "metadata": {},
     "output_type": "execute_result"
    }
   ],
   "source": [
    "core_files = sort(readdir(core_data_folder, join=true))\n",
    "core_files = [file for file in core_files if occursin(\".nc\", file)]\n",
    "core_files = [file for file in core_files if occursin(\"BOMEX\", file)]"
   ]
  },
  {
   "cell_type": "markdown",
   "metadata": {},
   "source": [
    "### read in z values"
   ]
  },
  {
   "cell_type": "code",
   "execution_count": 26,
   "metadata": {},
   "outputs": [],
   "source": [
    "z = ncread(default_files[1], \"z\")\n",
    "times = []\n",
    "for file in default_files\n",
    "    push!(times, ncread(file, \"time\")[1])\n",
    "end"
   ]
  },
  {
   "cell_type": "code",
   "execution_count": 27,
   "metadata": {},
   "outputs": [],
   "source": [
    "c_z = ncread(core_files[1], \"z\")\n",
    "c_times = []\n",
    "for file in core_files\n",
    "    push!(c_times, ncread(file, \"time\")[1])\n",
    "end"
   ]
  },
  {
   "cell_type": "markdown",
   "metadata": {},
   "source": [
    "### define desired diagnostic variables"
   ]
  },
  {
   "cell_type": "code",
   "execution_count": 35,
   "metadata": {
    "collapsed": true
   },
   "outputs": [
    {
     "data": {
      "text/plain": [
       "43-element Array{String,1}:\n",
       " \"u\"\n",
       " \"v\"\n",
       " \"w\"\n",
       " \"avg_rho\"\n",
       " \"rho\"\n",
       " \"qt\"\n",
       " \"ql\"\n",
       " \"thv\"\n",
       " \"thl\"\n",
       " \"temp\"\n",
       " \"pres\"\n",
       " \"thd\"\n",
       " \"ei\"\n",
       " ⋮\n",
       " \"cov_w_ql\"\n",
       " \"cov_w_qv\"\n",
       " \"cov_w_thd\"\n",
       " \"cov_w_thv\"\n",
       " \"cov_w_thl\"\n",
       " \"cov_w_ei\"\n",
       " \"cov_qt_thl\"\n",
       " \"cov_qt_ei\"\n",
       " \"cld_frac\"\n",
       " \"cld_top\"\n",
       " \"cld_base\"\n",
       " \"cld_cover\""
      ]
     },
     "execution_count": 35,
     "metadata": {},
     "output_type": "execute_result"
    }
   ],
   "source": [
    "default_grid = Dict(\"time\" => times[1:end], \"z\" => z)\n",
    "default_vars = [ \n",
    "    \"u\", \n",
    "    \"v\", \n",
    "    \"w\", \n",
    "    \"avg_rho\", \n",
    "    \"rho\", \n",
    "    \"qt\", \n",
    "    \"ql\",\n",
    "    \"thv\",\n",
    "    \"thl\",\n",
    "    \"temp\",\n",
    "    \"pres\",\n",
    "    \"thd\",\n",
    "    \"ei\",\n",
    "    \"et\",\n",
    "    \"ht\",\n",
    "    \"hi\",\n",
    "    \"w_ht_sgs\",\n",
    "    \"qv\",\n",
    "    \"w_qt_sgs\",\n",
    "    \"var_u\",\n",
    "    \"var_v\",\n",
    "    \"var_w\",\n",
    "    \"w3\",\n",
    "    \"tke\",\n",
    "    \"var_qt\",\n",
    "    \"var_thl\",\n",
    "    \"var_ei\",\n",
    "    \"cov_w_u\",\n",
    "    \"cov_w_v\",\n",
    "    \"cov_w_rho\",\n",
    "    \"cov_w_qt\",\n",
    "    \"cov_w_ql\",\n",
    "    \"cov_w_qv\",\n",
    "    \"cov_w_thd\",\n",
    "    \"cov_w_thv\",\n",
    "    \"cov_w_thl\",\n",
    "    \"cov_w_ei\",\n",
    "    \"cov_qt_thl\",\n",
    "    \"cov_qt_ei\",\n",
    "    \"cld_frac\",\n",
    "    \"cld_top\",\n",
    "    \"cld_base\",\n",
    "    \"cld_cover\"\n",
    "]"
   ]
  },
  {
   "cell_type": "code",
   "execution_count": 36,
   "metadata": {
    "collapsed": true
   },
   "outputs": [
    {
     "data": {
      "text/plain": [
       "23-element Array{String,1}:\n",
       " \"core_frac\"\n",
       " \"u_core\"\n",
       " \"v_core\"\n",
       " \"w_core\"\n",
       " \"avg_rho_core\"\n",
       " \"rho_core\"\n",
       " \"qt_core\"\n",
       " \"ql_core\"\n",
       " \"thv_core\"\n",
       " \"thl_core\"\n",
       " \"var_u_core\"\n",
       " \"var_v_core\"\n",
       " \"var_w_core\"\n",
       " \"var_qt_core\"\n",
       " \"var_thl_core\"\n",
       " \"var_ei_core\"\n",
       " \"cov_w_rho_core\"\n",
       " \"cov_w_qt_core\"\n",
       " \"cov_w_rho_core\"\n",
       " \"cov_w_thl_core\"\n",
       " \"cov_w_ei_core\"\n",
       " \"cov_qt_thl_core\"\n",
       " \"cov_qt_ei_core\""
      ]
     },
     "execution_count": 36,
     "metadata": {},
     "output_type": "execute_result"
    }
   ],
   "source": [
    "core_grid = Dict(\"time\" => c_times[1:end], \"z\" => c_z)\n",
    "core_vars = [\n",
    "    \"core_frac\", \n",
    "    \"u_core\", \n",
    "    \"v_core\", \n",
    "    \"w_core\", \n",
    "    \"avg_rho_core\", \n",
    "    \"rho_core\", \n",
    "    \"qt_core\", \n",
    "    \"ql_core\",\n",
    "    \"thv_core\",\n",
    "    \"thl_core\",\n",
    "    \"var_u_core\",\n",
    "    \"var_v_core\",\n",
    "    \"var_w_core\",\n",
    "    \"var_qt_core\",\n",
    "    \"var_thl_core\",\n",
    "    \"var_ei_core\",\n",
    "    \"cov_w_rho_core\",\n",
    "    \"cov_w_qt_core\",\n",
    "    \"cov_w_rho_core\",\n",
    "    \"cov_w_thl_core\",\n",
    "    \"cov_w_ei_core\",\n",
    "    \"cov_qt_thl_core\",\n",
    "    \"cov_qt_ei_core\"\n",
    "]"
   ]
  },
  {
   "cell_type": "markdown",
   "metadata": {},
   "source": [
    "### combine data from files into 1 dictionary with entry for each variable"
   ]
  },
  {
   "cell_type": "code",
   "execution_count": 49,
   "metadata": {
    "collapsed": true
   },
   "outputs": [
    {
     "data": {
      "text/plain": [
       "Dict{String,Array} with 43 entries:\n",
       "  \"cov_w_qt\"   => Float32[0.0 0.0 … 0.0 0.0; -8.66492f-9 -4.51697f-7 … -1.26942…\n",
       "  \"qv\"         => Float32[0.0170834 0.0170481 … 0.0030328 0.00300006; 0.0172673…\n",
       "  \"w3\"         => Float32[0.0 0.0 … 0.0 0.0; -4.15949f-11 -8.03124f-6 … -5.8143…\n",
       "  \"var_v\"      => Float32[0.0 0.0 … 0.0 0.0; 0.0119838 0.00642703 … 3.40348f-6 …\n",
       "  \"cov_w_thv\"  => Float32[0.0 0.0 … 0.0 0.0; -2.05306f-5 0.00392057 … 3.12408f-…\n",
       "  \"avg_rho\"    => Float32[1.17134 1.16875 … 0.891681 0.889495; 1.1791 1.17637 ……\n",
       "  \"et\"         => Float32[59426.6 59420.3 … 43860.7 43933.1; 60381.9 60080.7 … …\n",
       "  \"temp\"       => Float32[298.967 298.714 … 283.571 283.393; 299.681 299.483 … …\n",
       "  \"cld_base\"   => [394.737, NaN, 552.632, NaN, 552.632, 552.632, 552.632, 500.9…\n",
       "  \"cld_cover\"  => Float32[1.0, 0.0, 0.00375, 0.0, 0.0107812, 0.171719, 0.055156…\n",
       "  \"cov_w_v\"    => Float32[0.0 0.0 … 0.0 0.0; 2.06543f-6 -2.09243f-5 … -2.11109f…\n",
       "  \"cov_w_u\"    => Float32[0.0 0.0 … 0.0 0.0; -2.23249f-5 -8.76904f-6 … -4.87246…\n",
       "  \"thl\"        => Float32[298.782 298.789 … 311.755 311.85; 298.717 298.783 … 3…\n",
       "  \"hi\"         => Float32[146084.0 145736.0 … 96222.2 95975.6; 147259.0 146622.…\n",
       "  \"u\"          => Float32[-8.74974 -8.75012 … -4.65919 -4.60998; -8.33667 -8.70…\n",
       "  \"var_thl\"    => Float32[0.0433082 0.0432445 … 2.46772f-5 9.31328f-8; 0.015567…\n",
       "  \"tke\"        => Float32[3.33967f-8 6.87998f-9 … 7.14982f-9 2.72961f-10; 0.012…\n",
       "  \"w_qt_sgs\"   => Float32[0.0 0.0 … 0.0 0.0; 8.67101f-5 1.45557f-5 … 0.0 0.0; ……\n",
       "  \"ht\"         => Float32[146122.0 146041.0 … 125394.0 125419.0; 147294.0 14692…\n",
       "  \"ei\"         => Float32[59388.3 59114.5 … 14685.7 14494.1; 60347.2 59774.9 … …\n",
       "  \"rho\"        => Float32[1.17128 1.16879 … 0.891726 0.889451; 1.17906 1.17634 …\n",
       "  \"cov_qt_thl\" => Float32[-5.9732f-6 -5.93699f-6 … 4.03159f-10 -1.70053f-11; -2…\n",
       "  \"cov_w_rho\"  => Float32[0.0 0.0 … 0.0 0.0; 8.1331f-8 -1.53349f-5 … 1.20811f-9…\n",
       "  \"cov_w_thd\"  => Float32[0.0 0.0 … 0.0 0.0; -1.87599f-5 0.0039615 … 1.48489f-9…\n",
       "  \"var_w\"      => Float32[0.0 0.0 … 0.0 0.0; 2.57717f-7 0.00250129 … 2.76454f-7…\n",
       "  ⋮            => ⋮"
      ]
     },
     "execution_count": 49,
     "metadata": {},
     "output_type": "execute_result"
    }
   ],
   "source": [
    "default_data = Dict(var => [] for var in default_vars)\n",
    "for file in default_files[1:180]\n",
    "    for var in default_vars\n",
    "        temp = ncread(file, var)\n",
    "        temp = reshape(temp, size(temp))\n",
    "        push!(default_data[var], temp)\n",
    "    end\n",
    "end\n",
    "default_data = Dict(var => vcat(default_data[var]...) for var in default_vars)"
   ]
  },
  {
   "cell_type": "code",
   "execution_count": 51,
   "metadata": {
    "collapsed": true
   },
   "outputs": [
    {
     "data": {
      "text/plain": [
       "Dict{String,Array{Float32,2}} with 22 entries:\n",
       "  \"ql_core\"         => Float32[NaN NaN … NaN NaN; NaN NaN … NaN NaN; … ; NaN Na…\n",
       "  \"cov_w_thl_core\"  => Float32[NaN NaN … NaN NaN; NaN NaN … NaN NaN; … ; NaN Na…\n",
       "  \"core_frac\"       => Float32[0.0 0.0 … 0.0 0.0; 0.0 0.0 … 0.0 0.0; … ; 0.0 0.…\n",
       "  \"cov_w_rho_core\"  => Float32[NaN NaN … NaN NaN; NaN NaN … NaN NaN; … ; NaN Na…\n",
       "  \"rho_core\"        => Float32[NaN NaN … NaN NaN; NaN NaN … NaN NaN; … ; NaN Na…\n",
       "  \"w_core\"          => Float32[NaN NaN … NaN NaN; NaN NaN … NaN NaN; … ; NaN Na…\n",
       "  \"thl_core\"        => Float32[NaN NaN … NaN NaN; NaN NaN … NaN NaN; … ; NaN Na…\n",
       "  \"v_core\"          => Float32[NaN NaN … NaN NaN; NaN NaN … NaN NaN; … ; NaN Na…\n",
       "  \"var_qt_core\"     => Float32[NaN NaN … NaN NaN; NaN NaN … NaN NaN; … ; NaN Na…\n",
       "  \"cov_w_qt_core\"   => Float32[NaN NaN … NaN NaN; NaN NaN … NaN NaN; … ; NaN Na…\n",
       "  \"var_v_core\"      => Float32[NaN NaN … NaN NaN; NaN NaN … NaN NaN; … ; NaN Na…\n",
       "  \"var_ei_core\"     => Float32[NaN NaN … NaN NaN; NaN NaN … NaN NaN; … ; NaN Na…\n",
       "  \"var_thl_core\"    => Float32[NaN NaN … NaN NaN; NaN NaN … NaN NaN; … ; NaN Na…\n",
       "  \"var_w_core\"      => Float32[NaN NaN … NaN NaN; NaN NaN … NaN NaN; … ; NaN Na…\n",
       "  \"thv_core\"        => Float32[NaN NaN … NaN NaN; NaN NaN … NaN NaN; … ; NaN Na…\n",
       "  \"avg_rho_core\"    => Float32[NaN NaN … NaN NaN; NaN NaN … NaN NaN; … ; NaN Na…\n",
       "  \"cov_qt_thl_core\" => Float32[NaN NaN … NaN NaN; NaN NaN … NaN NaN; … ; NaN Na…\n",
       "  \"var_u_core\"      => Float32[NaN NaN … NaN NaN; NaN NaN … NaN NaN; … ; NaN Na…\n",
       "  \"qt_core\"         => Float32[NaN NaN … NaN NaN; NaN NaN … NaN NaN; … ; NaN Na…\n",
       "  \"u_core\"          => Float32[NaN NaN … NaN NaN; NaN NaN … NaN NaN; … ; NaN Na…\n",
       "  \"cov_w_ei_core\"   => Float32[NaN NaN … NaN NaN; NaN NaN … NaN NaN; … ; NaN Na…\n",
       "  \"cov_qt_ei_core\"  => Float32[NaN NaN … NaN NaN; NaN NaN … NaN NaN; … ; NaN Na…"
      ]
     },
     "execution_count": 51,
     "metadata": {},
     "output_type": "execute_result"
    }
   ],
   "source": [
    "core_data = Dict(var => [] for var in core_vars)\n",
    "for file in core_files[1:180]\n",
    "    for var in core_vars\n",
    "        temp = ncread(file, var)\n",
    "        temp = reshape(temp, size(temp))\n",
    "        push!(core_data[var], temp)\n",
    "    end\n",
    "end\n",
    "core_data = Dict(var => vcat(core_data[var]...) for var in core_vars)"
   ]
  },
  {
   "cell_type": "markdown",
   "metadata": {},
   "source": [
    "### turn combined file into dictionary for writing to json"
   ]
  },
  {
   "cell_type": "code",
   "execution_count": 54,
   "metadata": {},
   "outputs": [
    {
     "data": {
      "text/plain": [
       "Dict{String,Array{Float32,N} where N} with 43 entries:\n",
       "  \"cov_w_qt\"   => Float32[0.0 7.62962f-9 … 9.94986f-9 1.03096f-8; 0.0 1.00054f-…\n",
       "  \"qv\"         => Float32[0.0170846 0.0172732 … 0.0173276 0.0173256; 0.0170472 …\n",
       "  \"w3\"         => Float32[0.0 2.15619f-12 … 1.26892f-13 1.62949f-12; 0.0 -3.388…\n",
       "  \"var_v\"      => Float32[0.0 0.0213259 … 0.206604 0.203405; 0.0 0.0180118 … 0.…\n",
       "  \"cov_w_thv\"  => Float32[0.0 -1.22383f-5 … 1.6649f-6 1.30678f-6; 0.0 0.0040028…\n",
       "  \"avg_rho\"    => Float32[1.17134 1.17375 … 1.17476 1.17476; 1.16875 1.17124 … …\n",
       "  \"et\"         => Float32[59426.8 60042.1 … 60530.9 60528.1; 59424.3 59841.2 … …\n",
       "  \"temp\"       => Float32[298.964 299.199 … 299.72 299.721; 298.723 298.943 … 2…\n",
       "  \"cld_base\"   => Float32[394.737, 552.632, 552.632, 552.632, 500.948, 473.684,…\n",
       "  \"cld_cover\"  => Float32[1.0, 0.0034375, 0.006875, 0.0432812, 0.198437, 0.3212…\n",
       "  \"cov_w_v\"    => Float32[0.0 1.33929f-7 … 1.20441f-5 1.31341f-5; 0.0 0.0001385…\n",
       "  \"cov_w_u\"    => Float32[0.0 7.10456f-6 … 3.1995f-5 3.11541f-5; 0.0 0.00078663…\n",
       "  \"thl\"        => Float32[298.778 298.763 … 299.049 299.05; 298.795 298.762 … 2…\n",
       "  \"hi\"         => Float32[146083.0 146781.0 … 147439.0 147437.0; 145742.0 14622…\n",
       "  \"u\"          => Float32[-8.74974 -8.23867 … -5.70972 -5.70589; -8.75012 -8.60…\n",
       "  \"var_thl\"    => Float32[0.0404007 0.0111583 … 0.000866301 0.000863313; 0.0416…\n",
       "  \"tke\"        => Float32[3.33967f-8 0.0198314 … 0.233863 0.230134; 6.87998f-9 …\n",
       "  \"w_qt_sgs\"   => Float32[0.0 6.00622f-5 … 5.10651f-5 5.09209f-5; 0.0 2.40565f-…\n",
       "  \"ht\"         => Float32[146121.0 146815.0 … 147456.0 147454.0; 146047.0 14653…\n",
       "  \"ei\"         => Float32[59388.4 60008.2 … 60513.8 60511.1; 59118.5 59536.4 … …\n",
       "  \"rho\"        => Float32[1.17128 1.17375 … 1.17474 1.17474; 1.16879 1.17121 … …\n",
       "  \"cov_qt_thl\" => Float32[-5.62157f-6 -3.26632f-6 … -1.86262f-6 -1.79566f-6; -5…\n",
       "  \"cov_w_rho\"  => Float32[0.0 4.78481f-8 … -6.35951f-9 -4.96512f-9; 0.0 -1.5582…\n",
       "  \"cov_w_thd\"  => Float32[0.0 -1.34826f-5 … -1.43065f-7 -5.62187f-7; 0.0 0.0037…\n",
       "  \"var_w\"      => Float32[0.0 8.2424f-8 … 6.8415f-8 6.88428f-8; 0.0 0.00569628 …\n",
       "  ⋮            => ⋮"
      ]
     },
     "execution_count": 54,
     "metadata": {},
     "output_type": "execute_result"
    }
   ],
   "source": [
    "default_data_2 = Dict(var => [] for var in default_vars)\n",
    "for var in default_vars\n",
    "    temp = ncread(default_file, var)\n",
    "    push!(default_data_2[var],temp)\n",
    "end\n",
    "default_data_2 = Dict(var => vcat(default_data_2[var]...) for var in default_vars)"
   ]
  },
  {
   "cell_type": "code",
   "execution_count": 55,
   "metadata": {
    "scrolled": false
   },
   "outputs": [
    {
     "data": {
      "text/plain": [
       "Dict{String,Array{Float32,2}} with 22 entries:\n",
       "  \"ql_core\"         => Float32[NaN NaN … NaN NaN; NaN NaN … NaN NaN; … ; NaN Na…\n",
       "  \"cov_w_thl_core\"  => Float32[NaN NaN … NaN NaN; NaN NaN … NaN NaN; … ; NaN Na…\n",
       "  \"core_frac\"       => Float32[0.0 0.0 … 0.0 0.0; 0.0 0.0 … 0.0 0.0; … ; 0.0 0.…\n",
       "  \"cov_w_rho_core\"  => Float32[NaN NaN … NaN NaN; NaN NaN … NaN NaN; … ; NaN Na…\n",
       "  \"rho_core\"        => Float32[NaN NaN … NaN NaN; NaN NaN … NaN NaN; … ; NaN Na…\n",
       "  \"w_core\"          => Float32[NaN NaN … NaN NaN; NaN NaN … NaN NaN; … ; NaN Na…\n",
       "  \"thl_core\"        => Float32[NaN NaN … NaN NaN; NaN NaN … NaN NaN; … ; NaN Na…\n",
       "  \"v_core\"          => Float32[NaN NaN … NaN NaN; NaN NaN … NaN NaN; … ; NaN Na…\n",
       "  \"var_qt_core\"     => Float32[NaN NaN … NaN NaN; NaN NaN … NaN NaN; … ; NaN Na…\n",
       "  \"cov_w_qt_core\"   => Float32[NaN NaN … NaN NaN; NaN NaN … NaN NaN; … ; NaN Na…\n",
       "  \"var_v_core\"      => Float32[NaN NaN … NaN NaN; NaN NaN … NaN NaN; … ; NaN Na…\n",
       "  \"var_ei_core\"     => Float32[NaN NaN … NaN NaN; NaN NaN … NaN NaN; … ; NaN Na…\n",
       "  \"var_thl_core\"    => Float32[NaN NaN … NaN NaN; NaN NaN … NaN NaN; … ; NaN Na…\n",
       "  \"var_w_core\"      => Float32[NaN NaN … NaN NaN; NaN NaN … NaN NaN; … ; NaN Na…\n",
       "  \"thv_core\"        => Float32[NaN NaN … NaN NaN; NaN NaN … NaN NaN; … ; NaN Na…\n",
       "  \"avg_rho_core\"    => Float32[NaN NaN … NaN NaN; NaN NaN … NaN NaN; … ; NaN Na…\n",
       "  \"cov_qt_thl_core\" => Float32[NaN NaN … NaN NaN; NaN NaN … NaN NaN; … ; NaN Na…\n",
       "  \"var_u_core\"      => Float32[NaN NaN … NaN NaN; NaN NaN … NaN NaN; … ; NaN Na…\n",
       "  \"qt_core\"         => Float32[NaN NaN … NaN NaN; NaN NaN … NaN NaN; … ; NaN Na…\n",
       "  \"u_core\"          => Float32[NaN NaN … NaN NaN; NaN NaN … NaN NaN; … ; NaN Na…\n",
       "  \"cov_w_ei_core\"   => Float32[NaN NaN … NaN NaN; NaN NaN … NaN NaN; … ; NaN Na…\n",
       "  \"cov_qt_ei_core\"  => Float32[NaN NaN … NaN NaN; NaN NaN … NaN NaN; … ; NaN Na…"
      ]
     },
     "execution_count": 55,
     "metadata": {},
     "output_type": "execute_result"
    }
   ],
   "source": [
    "core_data_2 = Dict(var => [] for var in core_vars)\n",
    "for var in core_vars\n",
    "    temp = ncread(core_file, var)\n",
    "    push!(core_data_2[var],temp)\n",
    "end\n",
    "core_data_2 = Dict(var => vcat(core_data_2[var]...) for var in core_vars)"
   ]
  },
  {
   "cell_type": "markdown",
   "metadata": {},
   "source": [
    "### write dictionaries to json files"
   ]
  },
  {
   "cell_type": "code",
   "execution_count": 52,
   "metadata": {},
   "outputs": [
    {
     "data": {
      "text/plain": [
       "7622219"
      ]
     },
     "execution_count": 52,
     "metadata": {},
     "output_type": "execute_result"
    }
   ],
   "source": [
    "string = JSON.json(default_data)\n",
    "open(\"../full_data_set/data_files/BOMEX_DIAGNOSTICS_json/BOMEX_1_DEFAULT.json\", \"w\") do x\n",
    "    write(x, string)\n",
    "end"
   ]
  },
  {
   "cell_type": "code",
   "execution_count": 58,
   "metadata": {},
   "outputs": [
    {
     "data": {
      "text/plain": [
       "7626797"
      ]
     },
     "execution_count": 58,
     "metadata": {},
     "output_type": "execute_result"
    }
   ],
   "source": [
    "string = JSON.json(default_data_2)\n",
    "open(\"../full_data_set/data_files/BOMEX_DIAGNOSTICS_json/BOMEX_2_DEFAULT.json\", \"w\") do x\n",
    "    write(x, string)\n",
    "end"
   ]
  },
  {
   "cell_type": "code",
   "execution_count": 56,
   "metadata": {},
   "outputs": [
    {
     "data": {
      "text/plain": [
       "3076427"
      ]
     },
     "execution_count": 56,
     "metadata": {},
     "output_type": "execute_result"
    }
   ],
   "source": [
    "string = JSON.json(core_data)\n",
    "open(\"../full_data_set/data_files/BOMEX_DIAGNOSTICS_json/BOMEX_1_CORE.json\", \"w\") do x\n",
    "    write(x, string)\n",
    "end"
   ]
  },
  {
   "cell_type": "code",
   "execution_count": 57,
   "metadata": {},
   "outputs": [
    {
     "data": {
      "text/plain": [
       "3140969"
      ]
     },
     "execution_count": 57,
     "metadata": {},
     "output_type": "execute_result"
    }
   ],
   "source": [
    "string = JSON.json(core_data_2)\n",
    "open(\"../full_data_set/data_files/BOMEX_DIAGNOSTICS_json/BOMEX_2_CORE.json\", \"w\") do x\n",
    "    write(x, string)\n",
    "end"
   ]
  },
  {
   "cell_type": "code",
   "execution_count": null,
   "metadata": {},
   "outputs": [],
   "source": []
  }
 ],
 "metadata": {
  "@webio": {
   "lastCommId": "e55967a9dd0e4e6286953bcf15f5d839",
   "lastKernelId": "ab0110e9-aaf4-4112-b8da-7942c1820896"
  },
  "kernelspec": {
   "display_name": "Julia 1.4.2",
   "language": "julia",
   "name": "julia-1.4"
  },
  "language_info": {
   "file_extension": ".jl",
   "mimetype": "application/julia",
   "name": "julia",
   "version": "1.4.2"
  }
 },
 "nbformat": 4,
 "nbformat_minor": 4
}

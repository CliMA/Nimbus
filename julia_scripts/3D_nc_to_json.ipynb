{
 "cells": [
  {
   "cell_type": "code",
   "execution_count": 1,
   "metadata": {},
   "outputs": [],
   "source": [
    "using NetCDF: ncread, ncwrite, nccreate\n",
    "using NCDatasets\n",
    "using Statistics: mean\n",
    "using JSON"
   ]
  },
  {
   "cell_type": "markdown",
   "metadata": {},
   "source": [
    "### get data locations"
   ]
  },
  {
   "cell_type": "code",
   "execution_count": 2,
   "metadata": {},
   "outputs": [
    {
     "data": {
      "text/plain": [
       "\"../full_data_set/data_files/nc_3D_aux\""
      ]
     },
     "execution_count": 2,
     "metadata": {},
     "output_type": "execute_result"
    }
   ],
   "source": [
    "data_folder = \"../full_data_set/data_files/nc_3D\"\n",
    "aux_data_folder = \"../full_data_set/data_files/nc_3D_aux\""
   ]
  },
  {
   "cell_type": "markdown",
   "metadata": {},
   "source": [
    "#### write data into dictionary with desired variables"
   ]
  },
  {
   "cell_type": "code",
   "execution_count": 3,
   "metadata": {},
   "outputs": [],
   "source": [
    "files = sort(readdir(data_folder, join=true))\n",
    "files = [file for file in files if occursin(\".nc\", file)]\n",
    "vars = [\"ρu[1]\",\"ρu[2]\",\"ρu[3]\",\"ρ\", \"ρe\", \"moisture.ρq_tot\"]\n",
    "data = Dict(var => [] for var in vars)\n",
    "for file in files[100:114]\n",
    "    for var in vars\n",
    "        temp = ncread(file, var)\n",
    "        temp = reshape(temp, size(temp))\n",
    "        push!(data[var], round.(temp, digits = 4))\n",
    "        #push!(data[var], temp)\n",
    "    end\n",
    "end"
   ]
  },
  {
   "cell_type": "markdown",
   "metadata": {},
   "source": [
    "#### write to json in desired location"
   ]
  },
  {
   "cell_type": "code",
   "execution_count": 4,
   "metadata": {},
   "outputs": [
    {
     "data": {
      "text/plain": [
       "222334302"
      ]
     },
     "execution_count": 4,
     "metadata": {},
     "output_type": "execute_result"
    }
   ],
   "source": [
    "string = JSON.json(data)\n",
    "open(\"../full_data_set/data_files/final_data/BOMEX_3D_json/BOMEX_3D_100-114.json\", \"w\") do x\n",
    "    write(x, string)\n",
    "end"
   ]
  },
  {
   "cell_type": "markdown",
   "metadata": {},
   "source": [
    "#### write aux data into dictionary with desired variables"
   ]
  },
  {
   "cell_type": "code",
   "execution_count": 14,
   "metadata": {},
   "outputs": [],
   "source": [
    "aux_files = sort(readdir(aux_data_folder, join=true))\n",
    "aux_files = [file for file in aux_files if occursin(\".nc\", file)]\n",
    "aux_vars = [\"moisture.q_liq\", \"moisture.temperature\", \"moisture.θ_v\"]\n",
    "aux_data = Dict(var => [] for var in aux_vars)\n",
    "for aux_file in aux_files[100:114]\n",
    "    for var in aux_vars\n",
    "        temp = ncread(aux_file, var)\n",
    "        temp = reshape(temp, size(temp))\n",
    "        push!(aux_data[var], round.(temp, digits = 4))\n",
    "    end\n",
    "end"
   ]
  },
  {
   "cell_type": "markdown",
   "metadata": {},
   "source": [
    "#### write to json file in desired location"
   ]
  },
  {
   "cell_type": "code",
   "execution_count": 23,
   "metadata": {},
   "outputs": [
    {
     "data": {
      "text/plain": [
       "358688976"
      ]
     },
     "execution_count": 23,
     "metadata": {},
     "output_type": "execute_result"
    }
   ],
   "source": [
    "aux_string = JSON.json(aux_data)\n",
    "open(\"../full_data_set/data_files/final_data/BOMEX_3D_json/BOMEX_3D_aux_100-114.json\", \"w\") do x\n",
    "    write(x, aux_string)\n",
    "end"
   ]
  },
  {
   "cell_type": "markdown",
   "metadata": {},
   "source": [
    "### same as above, but for spacial coordinates"
   ]
  },
  {
   "cell_type": "code",
   "execution_count": 16,
   "metadata": {},
   "outputs": [],
   "source": [
    "coord_file = files[1]\n",
    "coord_vars = [\"x\", \"y\", \"z\"]\n",
    "coord_data = Dict(var => [] for var in coord_vars)\n",
    "for var in coord_vars\n",
    "    temp = ncread(coord_file, var)\n",
    "    temp = reshape(temp, size(temp))\n",
    "    push!(coord_data[var], temp)\n",
    "end\n",
    "coord_data = Dict(var => vcat(coord_data[var]...) for var in coord_vars)"
   ]
  },
  {
   "cell_type": "code",
   "execution_count": 17,
   "metadata": {},
   "outputs": [
    {
     "data": {
      "text/plain": [
       "1414"
      ]
     },
     "execution_count": 17,
     "metadata": {},
     "output_type": "execute_result"
    }
   ],
   "source": [
    "coord_string = JSON.json(coord_data)\n",
    "open(\"../full_data_set/data_files/final_data/BOMEX_3D_json/BOMEX_3D_coord_data.json\", \"w\") do x\n",
    "    write(x, coord_string)\n",
    "end"
   ]
  },
  {
   "cell_type": "code",
   "execution_count": null,
   "metadata": {},
   "outputs": [],
   "source": []
  }
 ],
 "metadata": {
  "kernelspec": {
   "display_name": "Julia 1.4.2",
   "language": "julia",
   "name": "julia-1.4"
  },
  "language_info": {
   "file_extension": ".jl",
   "mimetype": "application/julia",
   "name": "julia",
   "version": "1.4.2"
  }
 },
 "nbformat": 4,
 "nbformat_minor": 4
}
